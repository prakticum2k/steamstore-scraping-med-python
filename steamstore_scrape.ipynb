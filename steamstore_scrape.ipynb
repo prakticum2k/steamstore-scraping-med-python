{
 "cells": [
  {
   "cell_type": "code",
   "execution_count": 6,
   "id": "04273fe4-1984-48fc-b389-19cd4b961984",
   "metadata": {},
   "outputs": [
    {
     "name": "stdout",
     "output_type": "stream",
     "text": [
      "Data has been saved to steam_games.xlsx\n"
     ]
    }
   ],
   "source": [
    "import requests\n",
    "from bs4 import BeautifulSoup\n",
    "import pandas as pd\n",
    "\n",
    "def scrape_steam_store(pages=3):\n",
    "    games = []\n",
    "    base_url = \"https://store.steampowered.com/search/?filter=topsellers&page=\"\n",
    "    headers = {\n",
    "        \"User-Agent\": \"Mozilla/5.0 (Windows NT 10.0; Win64; x64) AppleWebKit/537.36 (KHTML, like Gecko) Chrome/120.0.0.0 Safari/537.36\"\n",
    "    }\n",
    "\n",
    "    for page in range(1, pages + 1):\n",
    "        url = base_url + str(page)\n",
    "        response = requests.get(url, headers=headers)\n",
    "\n",
    "        if response.status_code != 200:\n",
    "            print(f\"Failed to fetch page {page}\")\n",
    "            continue\n",
    "\n",
    "        soup = BeautifulSoup(response.text, 'html.parser')\n",
    "\n",
    "        for game in soup.select('.search_result_row'):\n",
    "            name = game.select_one('.title').text.strip()\n",
    "\n",
    "            price_element = game.select_one('.search_price')\n",
    "            price = price_element.text.strip() if price_element else \"N/A\"\n",
    "\n",
    "            discount_element = game.select_one('.search_discount span')\n",
    "            discount = discount_element.text.strip() if discount_element else \"0%\"\n",
    "\n",
    "            games.append({\n",
    "                \"Spelnamn\": name,\n",
    "                \"Pris\": price,\n",
    "                \"Rabattprocent\": discount\n",
    "            })\n",
    "\n",
    "    return games\n",
    "\n",
    "# Run the scraper\n",
    "game_list = scrape_steam_store(2)\n",
    "\n",
    "# Convert the list of dictionaries to a pandas DataFrame\n",
    "df = pd.DataFrame(game_list)\n",
    "\n",
    "# Save the DataFrame to an Excel file\n",
    "output_file = \"steam_games.xlsx\"\n",
    "df.to_excel(output_file, index=False, engine='openpyxl')\n",
    "\n",
    "print(f\"Data has been saved to {output_file}\")"
   ]
  },
  {
   "cell_type": "code",
   "execution_count": null,
   "id": "e96e459a-f5dc-49e3-b9ee-ff4f8815008b",
   "metadata": {},
   "outputs": [],
   "source": []
  }
 ],
 "metadata": {
  "kernelspec": {
   "display_name": "Python 3 (ipykernel)",
   "language": "python",
   "name": "python3"
  },
  "language_info": {
   "codemirror_mode": {
    "name": "ipython",
    "version": 3
   },
   "file_extension": ".py",
   "mimetype": "text/x-python",
   "name": "python",
   "nbconvert_exporter": "python",
   "pygments_lexer": "ipython3",
   "version": "3.12.4"
  }
 },
 "nbformat": 4,
 "nbformat_minor": 5
}
